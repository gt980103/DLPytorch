{
  "nbformat": 4,
  "nbformat_minor": 0,
  "metadata": {
    "colab": {
      "name": "CIFAR10ResNet.ipynb",
      "provenance": [],
      "authorship_tag": "ABX9TyNLED7W4immCGD8wEF3FCKP",
      "include_colab_link": true
    },
    "kernelspec": {
      "name": "python3",
      "display_name": "Python 3"
    },
    "accelerator": "GPU"
  },
  "cells": [
    {
      "cell_type": "markdown",
      "metadata": {
        "id": "view-in-github",
        "colab_type": "text"
      },
      "source": [
        "<a href=\"https://colab.research.google.com/github/gt980103/DLPytorch/blob/master/CIFAR10ResNet.ipynb\" target=\"_parent\"><img src=\"https://colab.research.google.com/assets/colab-badge.svg\" alt=\"Open In Colab\"/></a>"
      ]
    },
    {
      "cell_type": "code",
      "metadata": {
        "id": "bVlvHaXS87rb",
        "colab_type": "code",
        "outputId": "7db1030f-181f-4374-97cc-43366bfad777",
        "colab": {
          "base_uri": "https://localhost:8080/",
          "height": 1000
        }
      },
      "source": [
        "import torch\n",
        "import torchvision\n",
        "import torchvision.transforms as transforms\n",
        "#使用GPU\n",
        "device = torch.device(\"cuda\" if torch.cuda.is_available() else \"cpu\")\n",
        "\n",
        "#设置均值和方差\n",
        "mean = (0.4914, 0.4822, 0.4465)\n",
        "std = (0.2023, 0.1994, 0.2010)\n",
        "#设置批量大小\n",
        "batch_size = 32\n",
        "lr = 0.05\n",
        "epochs = 150\n",
        "\n",
        "#设置数据预处理 \n",
        "transform_train = transforms.Compose([\n",
        "    transforms.RandomCrop(32, padding=4),  #先四周填充0，在吧图像随机裁剪成32*32\n",
        "    transforms.RandomHorizontalFlip(),  #图像一半的概率翻转，一半的概率不翻转\n",
        "    transforms.ToTensor(),\n",
        "    transforms.Normalize(mean,std)])\n",
        "\n",
        "transform_test = transforms.Compose([\n",
        "    transforms.ToTensor(),\n",
        "    transforms.Normalize(mean,std)])\n",
        "\n",
        "#读取数据集 设置训练集和测试集\n",
        "train_set = torchvision.datasets.CIFAR10(root='./data',train=True, download=True, transform=transform_train)\n",
        "test_set = torchvision.datasets.CIFAR10(root='./data',train=False, download=True, transform=transform_test)\n",
        "\n",
        "train_loader = torch.utils.data.DataLoader(train_set, batch_size=batch_size, shuffle=True, num_workers=0)\n",
        "test_loader = torch.utils.data.DataLoader(test_set, batch_size=batch_size, shuffle=False, num_workers=0)\n",
        "\n",
        "def evl_test_acc(test_loader ,model, device = None):\n",
        "    if device is None and isinstance(model, torch.nn.Module):\n",
        "        # 如果没指定device就使用model的device\n",
        "        device = list(model.parameters())[0].device \n",
        "    with torch.no_grad():\n",
        "        model.eval()\n",
        "        total = 0.0\n",
        "        correct = 0.0\n",
        "        for inputs, labels in test_loader:\n",
        "            inputs, labels = inputs.to(device), labels.to(device)\n",
        "            outputs = model(inputs)\n",
        "            _, predict = torch.max(outputs,1)\n",
        "            total += labels.size(0)\n",
        "            correct += (labels == predict).sum().item()\n",
        "        model.train()\n",
        "    return correct / total\n",
        "\n",
        "import torch.nn as nn\n",
        "import torch.functional as F\n",
        "import torch.optim as optim\n",
        "import time\n",
        "\n",
        "#model = torchvision.models.resnet50(pretrained=True)\n",
        "#in_features = model.fc.in_features\n",
        "#model.fc = nn.Linear(in_features, 10)\n",
        "model = torchvision.models.resnet18(num_classes = 10)\n",
        "model = model.to(device)\n",
        "\n",
        "criterion = nn.CrossEntropyLoss()\n",
        "optimizer = optim.SGD(model.parameters(), lr=lr, momentum=0.9, weight_decay=5e-4)\n",
        "#optimizer = optim.Adam(model.parameters(), lr=lr)\n",
        "\n",
        "start_time = time.time()\n",
        "each_epoch_time = time.time()\n",
        "\n",
        "test_accs = []\n",
        "train_accs = []\n",
        "\n",
        "for epoch in range(epochs):\n",
        "    running_loss = 0.0\n",
        "    train_total = 0.0\n",
        "    train_correct = 0.0\n",
        "    start = time.time()\n",
        "\n",
        "    if epoch % 20 == 19:\n",
        "      lr = lr / 2\n",
        "      optimizer = optim.SGD(model.parameters(), lr=lr, momentum=0.9, weight_decay=5e-4)\n",
        "      #optimizer = optim.Adam(model.parameters(), lr=lr)\n",
        "    for i,data in enumerate(train_loader,0):\n",
        "        inputs, labels = data\n",
        "        inputs, labels = inputs.to(device), labels.to(device)\n",
        "        #清空梯度\n",
        "        optimizer.zero_grad()\n",
        "        #正向传播 反向传播 更新参数\n",
        "        output = model(inputs)\n",
        "        loss = criterion(output, labels)\n",
        "        loss.backward()\n",
        "        optimizer.step()\n",
        "        #记录损失\n",
        "        #running_loss += loss.item()\n",
        "        \n",
        "        #训练集数量 训练集正确数量\n",
        "        train_total += labels.size(0)\n",
        "        _, predict = torch.max(output.data,1)\n",
        "        train_correct += (labels == predict).sum().item()      \n",
        "        #每50组batch 打印一次\n",
        "        # if i % 50 == 49:\n",
        "        #     print('[%d, %5d] loss: %.5f train_acc: %.5f time: %.3f sec' % (epoch + 1, i + 1, running_loss / 50, train_correct / train_total ,time.time()-each_epoch_time))\n",
        "        #     running_loss = 0.0\n",
        "        #     each_epoch_time = time.time()\n",
        "    #记录一次epoch的训练误差 测试误差 训练时间\n",
        "    test_acc = evl_test_acc(test_loader, model)\n",
        "    test_accs.append(test_acc)\n",
        "    train_accs.append(train_correct / train_total)\n",
        "    print('epoch %d, train acc: %.5f, test acc: %.5f, time: %.3f sec'\n",
        "              % (epoch + 1,  train_correct / train_total, test_acc, time.time() - start))\n",
        "    print(\"total time %.3f sec\" % (time.time() - start_time))"
      ],
      "execution_count": 18,
      "outputs": [
        {
          "output_type": "stream",
          "text": [
            "Files already downloaded and verified\n",
            "Files already downloaded and verified\n",
            "epoch 1, train acc: 0.32276, test acc: 0.40920, time: 49.327 sec\n",
            "total time 49.327 sec\n",
            "epoch 2, train acc: 0.44718, test acc: 0.47560, time: 49.095 sec\n",
            "total time 98.422 sec\n",
            "epoch 3, train acc: 0.52484, test acc: 0.57370, time: 48.304 sec\n",
            "total time 146.727 sec\n",
            "epoch 4, train acc: 0.57406, test acc: 0.58340, time: 49.072 sec\n",
            "total time 195.799 sec\n",
            "epoch 5, train acc: 0.59908, test acc: 0.65760, time: 48.806 sec\n",
            "total time 244.605 sec\n",
            "epoch 6, train acc: 0.62196, test acc: 0.64540, time: 48.709 sec\n",
            "total time 293.316 sec\n",
            "epoch 7, train acc: 0.63480, test acc: 0.63340, time: 49.156 sec\n",
            "total time 342.472 sec\n",
            "epoch 8, train acc: 0.64848, test acc: 0.69260, time: 49.679 sec\n",
            "total time 392.153 sec\n",
            "epoch 9, train acc: 0.65594, test acc: 0.67700, time: 48.586 sec\n",
            "total time 440.740 sec\n",
            "epoch 10, train acc: 0.66296, test acc: 0.67880, time: 49.478 sec\n",
            "total time 490.218 sec\n",
            "epoch 11, train acc: 0.67060, test acc: 0.66360, time: 48.561 sec\n",
            "total time 538.780 sec\n",
            "epoch 12, train acc: 0.67604, test acc: 0.68650, time: 48.959 sec\n",
            "total time 587.740 sec\n",
            "epoch 13, train acc: 0.67704, test acc: 0.70480, time: 49.060 sec\n",
            "total time 636.801 sec\n",
            "epoch 14, train acc: 0.68060, test acc: 0.69960, time: 49.188 sec\n",
            "total time 685.989 sec\n",
            "epoch 15, train acc: 0.68562, test acc: 0.68810, time: 48.894 sec\n",
            "total time 734.884 sec\n",
            "epoch 16, train acc: 0.68834, test acc: 0.70670, time: 49.817 sec\n",
            "total time 784.702 sec\n",
            "epoch 17, train acc: 0.68638, test acc: 0.63370, time: 49.010 sec\n",
            "total time 833.713 sec\n",
            "epoch 18, train acc: 0.68750, test acc: 0.69180, time: 49.146 sec\n",
            "total time 882.860 sec\n",
            "epoch 19, train acc: 0.69232, test acc: 0.67740, time: 49.655 sec\n",
            "total time 932.515 sec\n",
            "epoch 20, train acc: 0.74238, test acc: 0.74370, time: 49.068 sec\n",
            "total time 981.584 sec\n",
            "epoch 21, train acc: 0.74684, test acc: 0.74620, time: 49.444 sec\n",
            "total time 1031.029 sec\n",
            "epoch 22, train acc: 0.74636, test acc: 0.75730, time: 49.159 sec\n",
            "total time 1080.188 sec\n",
            "epoch 23, train acc: 0.74536, test acc: 0.75990, time: 48.897 sec\n",
            "total time 1129.086 sec\n",
            "epoch 24, train acc: 0.74642, test acc: 0.75290, time: 49.645 sec\n",
            "total time 1178.732 sec\n",
            "epoch 25, train acc: 0.74912, test acc: 0.77080, time: 49.143 sec\n",
            "total time 1227.876 sec\n",
            "epoch 26, train acc: 0.74784, test acc: 0.73260, time: 49.072 sec\n",
            "total time 1276.948 sec\n",
            "epoch 27, train acc: 0.74886, test acc: 0.76920, time: 48.900 sec\n",
            "total time 1325.848 sec\n",
            "epoch 28, train acc: 0.75018, test acc: 0.73780, time: 49.127 sec\n",
            "total time 1374.976 sec\n",
            "epoch 29, train acc: 0.75224, test acc: 0.76150, time: 48.985 sec\n",
            "total time 1423.961 sec\n",
            "epoch 30, train acc: 0.75422, test acc: 0.75310, time: 49.456 sec\n",
            "total time 1473.417 sec\n",
            "epoch 31, train acc: 0.75286, test acc: 0.72870, time: 49.279 sec\n",
            "total time 1522.697 sec\n",
            "epoch 32, train acc: 0.75506, test acc: 0.73470, time: 49.780 sec\n",
            "total time 1572.478 sec\n",
            "epoch 33, train acc: 0.75466, test acc: 0.76340, time: 50.283 sec\n",
            "total time 1622.762 sec\n",
            "epoch 34, train acc: 0.75562, test acc: 0.74660, time: 49.986 sec\n",
            "total time 1672.749 sec\n",
            "epoch 35, train acc: 0.75802, test acc: 0.76200, time: 49.698 sec\n",
            "total time 1722.447 sec\n",
            "epoch 36, train acc: 0.75738, test acc: 0.77720, time: 49.935 sec\n",
            "total time 1772.384 sec\n",
            "epoch 37, train acc: 0.75956, test acc: 0.75740, time: 49.841 sec\n",
            "total time 1822.226 sec\n"
          ],
          "name": "stdout"
        },
        {
          "output_type": "error",
          "ename": "KeyboardInterrupt",
          "evalue": "ignored",
          "traceback": [
            "\u001b[0;31m---------------------------------------------------------------------------\u001b[0m",
            "\u001b[0;31mKeyboardInterrupt\u001b[0m                         Traceback (most recent call last)",
            "\u001b[0;32m<ipython-input-18-39b703738b7f>\u001b[0m in \u001b[0;36m<module>\u001b[0;34m()\u001b[0m\n\u001b[1;32m     88\u001b[0m         \u001b[0mloss\u001b[0m \u001b[0;34m=\u001b[0m \u001b[0mcriterion\u001b[0m\u001b[0;34m(\u001b[0m\u001b[0moutput\u001b[0m\u001b[0;34m,\u001b[0m \u001b[0mlabels\u001b[0m\u001b[0;34m)\u001b[0m\u001b[0;34m\u001b[0m\u001b[0;34m\u001b[0m\u001b[0m\n\u001b[1;32m     89\u001b[0m         \u001b[0mloss\u001b[0m\u001b[0;34m.\u001b[0m\u001b[0mbackward\u001b[0m\u001b[0;34m(\u001b[0m\u001b[0;34m)\u001b[0m\u001b[0;34m\u001b[0m\u001b[0;34m\u001b[0m\u001b[0m\n\u001b[0;32m---> 90\u001b[0;31m         \u001b[0moptimizer\u001b[0m\u001b[0;34m.\u001b[0m\u001b[0mstep\u001b[0m\u001b[0;34m(\u001b[0m\u001b[0;34m)\u001b[0m\u001b[0;34m\u001b[0m\u001b[0;34m\u001b[0m\u001b[0m\n\u001b[0m\u001b[1;32m     91\u001b[0m         \u001b[0;31m#记录损失\u001b[0m\u001b[0;34m\u001b[0m\u001b[0;34m\u001b[0m\u001b[0;34m\u001b[0m\u001b[0m\n\u001b[1;32m     92\u001b[0m         \u001b[0;31m#running_loss += loss.item()\u001b[0m\u001b[0;34m\u001b[0m\u001b[0;34m\u001b[0m\u001b[0;34m\u001b[0m\u001b[0m\n",
            "\u001b[0;32m/usr/local/lib/python3.6/dist-packages/torch/optim/sgd.py\u001b[0m in \u001b[0;36mstep\u001b[0;34m(self, closure)\u001b[0m\n\u001b[1;32m     91\u001b[0m                 \u001b[0md_p\u001b[0m \u001b[0;34m=\u001b[0m \u001b[0mp\u001b[0m\u001b[0;34m.\u001b[0m\u001b[0mgrad\u001b[0m\u001b[0;34m.\u001b[0m\u001b[0mdata\u001b[0m\u001b[0;34m\u001b[0m\u001b[0;34m\u001b[0m\u001b[0m\n\u001b[1;32m     92\u001b[0m                 \u001b[0;32mif\u001b[0m \u001b[0mweight_decay\u001b[0m \u001b[0;34m!=\u001b[0m \u001b[0;36m0\u001b[0m\u001b[0;34m:\u001b[0m\u001b[0;34m\u001b[0m\u001b[0;34m\u001b[0m\u001b[0m\n\u001b[0;32m---> 93\u001b[0;31m                     \u001b[0md_p\u001b[0m\u001b[0;34m.\u001b[0m\u001b[0madd_\u001b[0m\u001b[0;34m(\u001b[0m\u001b[0mweight_decay\u001b[0m\u001b[0;34m,\u001b[0m \u001b[0mp\u001b[0m\u001b[0;34m.\u001b[0m\u001b[0mdata\u001b[0m\u001b[0;34m)\u001b[0m\u001b[0;34m\u001b[0m\u001b[0;34m\u001b[0m\u001b[0m\n\u001b[0m\u001b[1;32m     94\u001b[0m                 \u001b[0;32mif\u001b[0m \u001b[0mmomentum\u001b[0m \u001b[0;34m!=\u001b[0m \u001b[0;36m0\u001b[0m\u001b[0;34m:\u001b[0m\u001b[0;34m\u001b[0m\u001b[0;34m\u001b[0m\u001b[0m\n\u001b[1;32m     95\u001b[0m                     \u001b[0mparam_state\u001b[0m \u001b[0;34m=\u001b[0m \u001b[0mself\u001b[0m\u001b[0;34m.\u001b[0m\u001b[0mstate\u001b[0m\u001b[0;34m[\u001b[0m\u001b[0mp\u001b[0m\u001b[0;34m]\u001b[0m\u001b[0;34m\u001b[0m\u001b[0;34m\u001b[0m\u001b[0m\n",
            "\u001b[0;31mKeyboardInterrupt\u001b[0m: "
          ]
        }
      ]
    },
    {
      "cell_type": "code",
      "metadata": {
        "id": "KucyySZGF0U0",
        "colab_type": "code",
        "colab": {}
      },
      "source": [
        "PATH = './cifar_resnet18.pth'\n",
        "torch.save(model.state_dict(), PATH)"
      ],
      "execution_count": 0,
      "outputs": []
    },
    {
      "cell_type": "code",
      "metadata": {
        "id": "Sa0gdQGUWXqQ",
        "colab_type": "code",
        "colab": {
          "base_uri": "https://localhost:8080/",
          "height": 265
        },
        "outputId": "2b1f0ac1-788a-4741-f4e8-959360164184"
      },
      "source": [
        "%matplotlib inline\n",
        "import matplotlib.pyplot as plt\n",
        "plt.figure()\n",
        "x = range(len(train_accs))\n",
        "plt.plot(x,train_accs)\n",
        "plt.plot(x,test_accs)\n",
        "plt.show()"
      ],
      "execution_count": 19,
      "outputs": [
        {
          "output_type": "display_data",
          "data": {
            "image/png": "[encoded data removed]",
            "text/plain": [
              "<Figure size 432x288 with 1 Axes>"
            ]
          },
          "metadata": {
            "tags": []
          }
        }
      ]
    },
    {
      "cell_type": "code",
      "metadata": {
        "id": "JlBf86ZCXcpQ",
        "colab_type": "code",
        "colab": {}
      },
      "source": [
        ""
      ],
      "execution_count": 0,
      "outputs": []
    }
  ]
}